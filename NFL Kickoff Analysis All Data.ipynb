{
 "cells": [
  {
   "cell_type": "code",
   "execution_count": null,
   "id": "b3f961bb-c07d-42a6-9695-36554b211718",
   "metadata": {},
   "outputs": [],
   "source": [
    "pip install streamlit"
   ]
  },
  {
   "cell_type": "code",
   "execution_count": null,
   "id": "5b79751f-5473-4aee-9bf0-84385dfe7e6e",
   "metadata": {},
   "outputs": [],
   "source": [
    "pip install nfl_data_py"
   ]
  },
  {
   "cell_type": "code",
   "execution_count": null,
   "id": "69eb8d62-0e6b-4f90-a4d9-bd9cc29c30c4",
   "metadata": {},
   "outputs": [],
   "source": [
    "pip install duckdb"
   ]
  },
  {
   "cell_type": "code",
   "execution_count": null,
   "id": "1d04fc58-5516-49ad-8b63-426b21ed2c5f",
   "metadata": {},
   "outputs": [],
   "source": [
    "pip install plotly"
   ]
  },
  {
   "cell_type": "code",
   "execution_count": 2,
   "id": "890117dc-692a-4b0f-8a73-8d901a7b5e8c",
   "metadata": {},
   "outputs": [],
   "source": [
    "import nfl_data_py as nfl  # NFL data retrieval and analysis (via https://pypi.org/project/nfl-data-py/)\n",
    "import pandas as pd  # Data manipulation and analysis\n",
    "import duckdb # Used to write SQL inside Python script\n",
    "import plotly.express as px # Used to create Python visualizations\n",
    "import plotly.graph_objects as go # Used to create Python visualizations"
   ]
  },
  {
   "cell_type": "code",
   "execution_count": 12,
   "id": "71c2440b-fdcb-4048-bc58-3e28df706d19",
   "metadata": {},
   "outputs": [
    {
     "name": "stdout",
     "output_type": "stream",
     "text": [
      "2023 done.\n",
      "Downcasting floats.\n"
     ]
    }
   ],
   "source": [
    "# Make dataframe output easier to read\n",
    "pd.set_option('display.max_columns', None)  # Show all columns\n",
    "pd.set_option('display.width', None)  # Allow horizontal scrolling\n",
    "pd.set_option('display.max_rows', None)  # Show all rows\n",
    "\n",
    "# Define lists for years and columns that we can use to filter the large play-by-play data set.\n",
    "years = [2023]\n",
    "\n",
    "# Save NFL play by play data sets to dataframe\n",
    "df_game_log = nfl.import_pbp_data(years) # Import play-by-play data set\n",
    "df_players = nfl.import_seasonal_rosters(years) # Import NFL rosters for each year requested\n",
    "df_teams = nfl.import_team_desc() # Import NFL team information\n",
    "\n",
    "# Write the DataFrames to a CSV file\n",
    "df_game_log.to_csv(r'C:\\Users\\simo5\\Downloads\\nfl_game_log.csv', index=False)\n",
    "df_players.to_csv(r'C:\\Users\\simo5\\Downloads\\nfl_players.csv', index=False)\n",
    "df_teams.to_csv(r'C:\\Users\\simo5\\Downloads\\nfl_teams.csv', index=False)"
   ]
  },
  {
   "cell_type": "code",
   "execution_count": null,
   "id": "de353682-3bd9-4140-94d1-e9360c6dc5e7",
   "metadata": {},
   "outputs": [],
   "source": []
  }
 ],
 "metadata": {
  "kernelspec": {
   "display_name": "Python 3 (ipykernel)",
   "language": "python",
   "name": "python3"
  },
  "language_info": {
   "codemirror_mode": {
    "name": "ipython",
    "version": 3
   },
   "file_extension": ".py",
   "mimetype": "text/x-python",
   "name": "python",
   "nbconvert_exporter": "python",
   "pygments_lexer": "ipython3",
   "version": "3.11.5"
  }
 },
 "nbformat": 4,
 "nbformat_minor": 5
}
